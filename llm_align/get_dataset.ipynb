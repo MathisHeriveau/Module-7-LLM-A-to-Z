{
 "cells": [
  {
   "cell_type": "code",
   "execution_count": 1,
   "metadata": {},
   "outputs": [],
   "source": [
    "# Import libraries\n",
    "import os, sys\n",
    "\n",
    "# Pytorch\n",
    "import torch\n",
    "\n",
    "# Import some Hugging Face Libraries\n",
    "import transformers\n",
    "from datasets import load_dataset, load_from_disk\n",
    "\n",
    "torch.backends.cuda.matmul.allow_tf32 = True\n",
    "torch.backends.cudnn.allow_tf32 = True\n",
    "\n",
    "torch.cuda.empty_cache()\n",
    "\n",
    "# Optional for debugging, if you want to see the full tensor\n",
    "torch.set_printoptions(threshold=10_000)"
   ]
  },
  {
   "cell_type": "code",
   "execution_count": 2,
   "metadata": {},
   "outputs": [
    {
     "name": "stdout",
     "output_type": "stream",
     "text": [
      "Device: You are using  cuda\n"
     ]
    }
   ],
   "source": [
    "#Training parameters\n",
    "context = 1024\n",
    "\n",
    "# Set the device\n",
    "device = torch.device(\"cuda\" if torch.cuda.is_available() else \"cpu\")\n",
    "print(\"Device: You are using \", device)\n"
   ]
  },
  {
   "cell_type": "code",
   "execution_count": 6,
   "metadata": {},
   "outputs": [
    {
     "name": "stdout",
     "output_type": "stream",
     "text": [
      "Dataset not found, loading from Hugging Face\n"
     ]
    },
    {
     "data": {
      "application/vnd.jupyter.widget-view+json": {
       "model_id": "dd11b6ebcbd544be828931020c6e11de",
       "version_major": 2,
       "version_minor": 0
      },
      "text/plain": [
       "Map:   0%|          | 0/1145824 [00:00<?, ? examples/s]"
      ]
     },
     "metadata": {},
     "output_type": "display_data"
    },
    {
     "data": {
      "application/vnd.jupyter.widget-view+json": {
       "model_id": "98f2b19103b0499e8e8c05ba841371c4",
       "version_major": 2,
       "version_minor": 0
      },
      "text/plain": [
       "Saving the dataset (0/6 shards):   0%|          | 0/1145824 [00:00<?, ? examples/s]"
      ]
     },
     "metadata": {},
     "output_type": "display_data"
    }
   ],
   "source": [
    "path = os.getcwd() \n",
    "dataset_name = 'facebook/natural_reasoning'\n",
    "tokenizer_path = path + '/tokenizers/tok16384'\n",
    "checkpoint_dir = path + '/models/'\n",
    "\n",
    "dataset_path_1 = path + '\\\\data2\\\\General-Knowledge'\n",
    "dataset_path_2 = path + '\\\\data2\\\\natural_reasoning'\n",
    "dataset_path = path + '\\\\data2\\\\other'\n",
    "\n",
    "tokenizer = transformers.AutoTokenizer.from_pretrained(tokenizer_path)\n",
    "\n",
    "# Set the tokenizer parameters\n",
    "# tokenizer.chat_template = \"{% for message in messages %}{% if message['role'] == 'user' %}\\n{{ '<|user|>\\n' + message['content'] + eos_token }}\\n{% elif message['role'] == 'assistant' %}\\n{{ '<|assistant|>\\n' + message['content'] + eos_token }}\\n{% endif %}{% if loop.last and add_generation_prompt %}\\n{{ '<|assistant|>\\n' }}\\n{% endif %}\\n{% endfor %}\"\n",
    "\n",
    "# Make padding token equal to the end of sentence token (wich has ID of 2 in our case)\n",
    "tokenizer.pad_token = tokenizer.eos_token\n",
    "\n",
    "if os.path.exists(dataset_path_1) and os.path.exists(dataset_path_2):\n",
    " pass\n",
    "else:\n",
    "    print(\"Dataset not found, loading from Hugging Face\")\n",
    "    dataset = load_dataset(dataset_name, split='train')\n",
    "    \n",
    "    # Prétraitement pour transformer les questions et réponses en format utilisé pour l'entraînement\n",
    "    def preprocess_dataset(examples):\n",
    "        questions = examples['question']\n",
    "        answers = examples['responses']\n",
    "        \n",
    "\n",
    "        # Vérification et conversion en string (évite les erreurs sur des valeurs nulles) sinon on converit en string \n",
    "        questions = [q if isinstance(q, str) else \"\" for q in questions]\n",
    "        answers = [a[0].get('response') if isinstance(a[0].get('response'), str) else \"\" for a in answers]\n",
    "\n",
    "        input_encodings = tokenizer(\n",
    "            questions, truncation=True, padding=\"max_length\", max_length=256, return_tensors=\"np\"\n",
    "        )\n",
    "        target_encodings = tokenizer(\n",
    "            answers, truncation=True, padding=\"max_length\", max_length=256, return_tensors=\"np\"\n",
    "        )\n",
    "        \n",
    "        if any(x is None for x in input_encodings[\"input_ids\"]):\n",
    "            print(\"❌ Erreur : Certaines input_ids sont None !\")\n",
    "        \n",
    "        if any(x is None for x in target_encodings[\"input_ids\"]):\n",
    "            print(\"❌ Erreur : Certaines labels sont None !\")\n",
    "            \n",
    "            \n",
    "        return {\n",
    "            'input_ids': input_encodings['input_ids'],\n",
    "            'labels': target_encodings['input_ids'],\n",
    "            'attention_mask': input_encodings['attention_mask'].tolist()  # Ajout de l'attention_mask\n",
    "        }\n",
    "\n",
    "    # Appliquer la transformation\n",
    "    dataset = dataset.map(preprocess_dataset, batched=True, remove_columns=['question', 'responses'])\n",
    "    dataset.save_to_disk(dataset_path)\n",
    "        \n",
    "    "
   ]
  },
  {
   "cell_type": "code",
   "execution_count": null,
   "metadata": {},
   "outputs": [],
   "source": [
    "\n",
    "print(tokenizer.decode(dataset[0]['input_ids']))\n",
    "print(tokenizer.decode(dataset[0]['labels']))"
   ]
  }
 ],
 "metadata": {
  "kernelspec": {
   "display_name": "kivy_env",
   "language": "python",
   "name": "python3"
  },
  "language_info": {
   "codemirror_mode": {
    "name": "ipython",
    "version": 3
   },
   "file_extension": ".py",
   "mimetype": "text/x-python",
   "name": "python",
   "nbconvert_exporter": "python",
   "pygments_lexer": "ipython3",
   "version": "3.10.15"
  }
 },
 "nbformat": 4,
 "nbformat_minor": 2
}
